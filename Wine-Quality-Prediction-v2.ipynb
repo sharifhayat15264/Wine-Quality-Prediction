{
 "cells": [
  {
   "cell_type": "markdown",
   "metadata": {},
   "source": [
    "# Wine Quality Prediction v2\n",
    "\n",
    "## Info\n",
    "\n",
    "The two datasets are related to red and white variants of the Portuguese \"Vinho Verde\" wine. For more details, consult: [Web Link] or the reference [Cortez et al., 2009]. Due to privacy and logistic issues, only physicochemical (inputs) and sensory (the output) variables are available (e.g. there is no data about grape types, wine brand, wine selling price, etc.).\n",
    "\n",
    "## **Problem Statement**\n",
    "\n",
    "Perform `Regression` analysis to estimate Wine Quality\n",
    "\n",
    "## Data Dictionary\n",
    "\n",
    "Input variables (based on physicochemical tests):\n",
    "\n",
    "* 1 - fixed acidity\n",
    "\n",
    "* 2 - volatile acidity\n",
    "\n",
    "* 3 - citric acid\n",
    "\n",
    "* 4 - residual sugar\n",
    "\n",
    "* 5 - chlorides\n",
    "\n",
    "* 6 - free sulfur dioxide\n",
    "\n",
    "* 7 - total sulfur dioxide\n",
    "\n",
    "* 8 - density\n",
    "\n",
    "* 9 - pH\n",
    "\n",
    "* 10 - sulphates\n",
    "\n",
    "* 11 - alcohol\n",
    "\n",
    "Target variable (based on sensory data):\n",
    "\n",
    "* 12 - quality (score between 0 and 10)\n",
    "\n",
    "## Tools\n",
    "\n",
    "* Pandas\n",
    "* NumPy\n",
    "* Matplotlib\n",
    "* Seaborn\n",
    "* Scikit-Learn\n",
    "\n",
    "# Approach\n",
    "\n",
    "* Data Analysis\n",
    "* Data Cleaning\n",
    "* Experimentation\n",
    "* Conclusion\n"
   ]
  },
  {
   "cell_type": "markdown",
   "metadata": {},
   "source": [
    "### Import all the necessary tools"
   ]
  },
  {
   "cell_type": "code",
   "execution_count": 23,
   "metadata": {},
   "outputs": [],
   "source": [
    "# Importing tools\n",
    "import warnings\n",
    "warnings.simplefilter(action='ignore', category=FutureWarning)\n",
    "\n",
    "# Regular EDA (Exploratory Data Analysis) and plotting libraries\n",
    "import numpy as np\n",
    "import pandas as pd\n",
    "import matplotlib.pyplot as plt\n",
    "import seaborn as sns\n",
    "%matplotlib inline\n",
    "\n",
    "# Models from Scikit-Learn\n",
    "from sklearn.linear_model import LinearRegression\n",
    "from sklearn.linear_model import Ridge\n",
    "from sklearn.svm import SVR\n",
    "from sklearn.ensemble import RandomForestRegressor\n",
    "from sklearn.ensemble import BaggingRegressor\n",
    "from sklearn.ensemble import ExtraTreesRegressor\n",
    "from sklearn.ensemble import GradientBoostingRegressor\n",
    "\n",
    "# Model Evaluations\n",
    "from sklearn.model_selection import train_test_split, cross_val_score\n",
    "from sklearn.model_selection import RandomizedSearchCV, GridSearchCV\n",
    "from sklearn.metrics import mean_absolute_error, mean_squared_error, r2_score, explained_variance_score\n",
    "\n",
    "# Data Standardization\n",
    "from sklearn.preprocessing import StandardScaler"
   ]
  },
  {
   "cell_type": "code",
   "execution_count": 2,
   "metadata": {},
   "outputs": [],
   "source": [
    "# Function for computing cross-validated evaluation metrics\n",
    "def cross_validation_report(model, X_train, y_train, k):\n",
    "    '''\n",
    "    This function computes the cross-validated\n",
    "    R2 score, MAE and MSE for a regression model accross k folds.\n",
    "    '''\n",
    "    \n",
    "    cross_r2 = cross_val_score(model, X_train, y_train, cv=k, scoring=\"r2\")\n",
    "    cross_mae = cross_val_score(model, X_train, y_train, cv=k, scoring=\"neg_mean_absolute_error\")\n",
    "    cross_mse = cross_val_score(model, X_train, y_train, cv=k, scoring=\"neg_mean_squared_error\")\n",
    "    cross_rmse = cross_val_score(model, X_train, y_train, cv=k, scoring=\"neg_root_mean_squared_error\")\n",
    "    \n",
    "    metrics = {\"R2\": cross_r2.mean(),\n",
    "               \"Mean Absolute Error\": (cross_mae.mean())*-1,\n",
    "               \"Mean Squared Error\": (cross_mse.mean())*-1,\n",
    "               \"Root Mean Squared Error\": (cross_rmse.mean())*-1}\n",
    "    return metrics\n",
    "\n",
    "\n",
    "def test_eval(y_test, y_preds):\n",
    "    '''\n",
    "    This function evaluates the predictions made by\n",
    "    a Regression model on the test set.\n",
    "    '''\n",
    "    r2 = r2_score(y_test, y_preds)\n",
    "    mae = mean_absolute_error(y_test, y_preds)\n",
    "    mse = mean_squared_error(y_test, y_preds)\n",
    "    rmse = np.sqrt(mean_squared_error(y_test, y_preds))\n",
    "    \n",
    "    return {\"R2\": r2, \"MAE\": mae, \"MSE\": mse, \"RMSE\": rmse}\n",
    "\n",
    "def plot_confusion_matrix(y_test, y_preds, colormap):\n",
    "    '''\n",
    "    This function plots a Confusion Matrix using\n",
    "    Seaborn's heatmap.\n",
    "    '''\n",
    "    sns.set(font_scale=1.2)\n",
    "    log_reg_conf = confusion_matrix(y_test, y_preds)\n",
    "    sns.heatmap(log_reg_conf, annot=True, fmt='d', linewidths=.5,  \n",
    "                cmap=\"Reds\", cbar=False)\n",
    "    plt.ylabel('true label')\n",
    "    plt.xlabel('predicted label');\n",
    "    \n",
    "\n",
    "def plot_corr_matrix(data, color):\n",
    "    '''\n",
    "    This function plots a correlation matrix for an input\n",
    "    DataFrame with Seaborn's heatmap\n",
    "    '''\n",
    "    plt.figure(figsize=(12,12))\n",
    "    sns.set(font_scale=1.2)\n",
    "    sns.heatmap(data.corr(),cmap=color, annot=True)\n"
   ]
  },
  {
   "cell_type": "code",
   "execution_count": 3,
   "metadata": {},
   "outputs": [
    {
     "data": {
      "text/html": [
       "<div>\n",
       "<style scoped>\n",
       "    .dataframe tbody tr th:only-of-type {\n",
       "        vertical-align: middle;\n",
       "    }\n",
       "\n",
       "    .dataframe tbody tr th {\n",
       "        vertical-align: top;\n",
       "    }\n",
       "\n",
       "    .dataframe thead th {\n",
       "        text-align: right;\n",
       "    }\n",
       "</style>\n",
       "<table border=\"1\" class=\"dataframe\">\n",
       "  <thead>\n",
       "    <tr style=\"text-align: right;\">\n",
       "      <th></th>\n",
       "      <th>fixed acidity</th>\n",
       "      <th>volatile acidity</th>\n",
       "      <th>citric acid</th>\n",
       "      <th>residual sugar</th>\n",
       "      <th>chlorides</th>\n",
       "      <th>free sulfur dioxide</th>\n",
       "      <th>total sulfur dioxide</th>\n",
       "      <th>density</th>\n",
       "      <th>pH</th>\n",
       "      <th>sulphates</th>\n",
       "      <th>alcohol</th>\n",
       "      <th>quality</th>\n",
       "    </tr>\n",
       "  </thead>\n",
       "  <tbody>\n",
       "    <tr>\n",
       "      <th>0</th>\n",
       "      <td>7.4</td>\n",
       "      <td>0.70</td>\n",
       "      <td>0.00</td>\n",
       "      <td>1.9</td>\n",
       "      <td>0.076</td>\n",
       "      <td>11.0</td>\n",
       "      <td>34.0</td>\n",
       "      <td>0.9978</td>\n",
       "      <td>3.51</td>\n",
       "      <td>0.56</td>\n",
       "      <td>9.4</td>\n",
       "      <td>5</td>\n",
       "    </tr>\n",
       "    <tr>\n",
       "      <th>1</th>\n",
       "      <td>7.8</td>\n",
       "      <td>0.88</td>\n",
       "      <td>0.00</td>\n",
       "      <td>2.6</td>\n",
       "      <td>0.098</td>\n",
       "      <td>25.0</td>\n",
       "      <td>67.0</td>\n",
       "      <td>0.9968</td>\n",
       "      <td>3.20</td>\n",
       "      <td>0.68</td>\n",
       "      <td>9.8</td>\n",
       "      <td>5</td>\n",
       "    </tr>\n",
       "    <tr>\n",
       "      <th>2</th>\n",
       "      <td>7.8</td>\n",
       "      <td>0.76</td>\n",
       "      <td>0.04</td>\n",
       "      <td>2.3</td>\n",
       "      <td>0.092</td>\n",
       "      <td>15.0</td>\n",
       "      <td>54.0</td>\n",
       "      <td>0.9970</td>\n",
       "      <td>3.26</td>\n",
       "      <td>0.65</td>\n",
       "      <td>9.8</td>\n",
       "      <td>5</td>\n",
       "    </tr>\n",
       "    <tr>\n",
       "      <th>3</th>\n",
       "      <td>11.2</td>\n",
       "      <td>0.28</td>\n",
       "      <td>0.56</td>\n",
       "      <td>1.9</td>\n",
       "      <td>0.075</td>\n",
       "      <td>17.0</td>\n",
       "      <td>60.0</td>\n",
       "      <td>0.9980</td>\n",
       "      <td>3.16</td>\n",
       "      <td>0.58</td>\n",
       "      <td>9.8</td>\n",
       "      <td>6</td>\n",
       "    </tr>\n",
       "    <tr>\n",
       "      <th>4</th>\n",
       "      <td>7.4</td>\n",
       "      <td>0.70</td>\n",
       "      <td>0.00</td>\n",
       "      <td>1.9</td>\n",
       "      <td>0.076</td>\n",
       "      <td>11.0</td>\n",
       "      <td>34.0</td>\n",
       "      <td>0.9978</td>\n",
       "      <td>3.51</td>\n",
       "      <td>0.56</td>\n",
       "      <td>9.4</td>\n",
       "      <td>5</td>\n",
       "    </tr>\n",
       "  </tbody>\n",
       "</table>\n",
       "</div>"
      ],
      "text/plain": [
       "   fixed acidity  volatile acidity  citric acid  residual sugar  chlorides  \\\n",
       "0            7.4              0.70         0.00             1.9      0.076   \n",
       "1            7.8              0.88         0.00             2.6      0.098   \n",
       "2            7.8              0.76         0.04             2.3      0.092   \n",
       "3           11.2              0.28         0.56             1.9      0.075   \n",
       "4            7.4              0.70         0.00             1.9      0.076   \n",
       "\n",
       "   free sulfur dioxide  total sulfur dioxide  density    pH  sulphates  \\\n",
       "0                 11.0                  34.0   0.9978  3.51       0.56   \n",
       "1                 25.0                  67.0   0.9968  3.20       0.68   \n",
       "2                 15.0                  54.0   0.9970  3.26       0.65   \n",
       "3                 17.0                  60.0   0.9980  3.16       0.58   \n",
       "4                 11.0                  34.0   0.9978  3.51       0.56   \n",
       "\n",
       "   alcohol  quality  \n",
       "0      9.4        5  \n",
       "1      9.8        5  \n",
       "2      9.8        5  \n",
       "3      9.8        6  \n",
       "4      9.4        5  "
      ]
     },
     "execution_count": 3,
     "metadata": {},
     "output_type": "execute_result"
    }
   ],
   "source": [
    "data = pd.read_csv(\"../data/winequality-red.csv\")\n",
    "data.head()"
   ]
  },
  {
   "cell_type": "markdown",
   "metadata": {},
   "source": [
    "# Splitting and Standardizing the data"
   ]
  },
  {
   "cell_type": "code",
   "execution_count": 11,
   "metadata": {},
   "outputs": [],
   "source": [
    "X = data.drop(\"quality\", axis=1)\n",
    "y = data[\"quality\"].values.astype(np.float)"
   ]
  },
  {
   "cell_type": "code",
   "execution_count": 12,
   "metadata": {},
   "outputs": [
    {
     "name": "stdout",
     "output_type": "stream",
     "text": [
      "X train size:  (1199, 11)\n",
      "y train size:  (1199,)\n",
      "X test size:  (400, 11)\n",
      "y test size:  (400,)\n"
     ]
    }
   ],
   "source": [
    "X_train, X_test, y_train, y_test = train_test_split(X, y, test_size=0.25, random_state=0)\n",
    "\n",
    "print('X train size: ', X_train.shape)\n",
    "print('y train size: ', y_train.shape)\n",
    "print('X test size: ', X_test.shape)\n",
    "print('y test size: ', y_test.shape)"
   ]
  },
  {
   "cell_type": "markdown",
   "metadata": {},
   "source": [
    "### `Standardizing` the features around the center and mean of `0` with a standard deviation of `1` is important when we compare measurements that have different units. Variables that are measured at different scales do not contribute equally to the analysis and might end up creating a bias."
   ]
  },
  {
   "cell_type": "code",
   "execution_count": 13,
   "metadata": {},
   "outputs": [],
   "source": [
    "# Standardize the data\n",
    "\n",
    "scaler = StandardScaler()\n",
    "X_train_stan = scaler.fit_transform(X_train)\n",
    "X_test_stan = scaler.transform(X_test)"
   ]
  },
  {
   "cell_type": "markdown",
   "metadata": {},
   "source": [
    "## Experimenting with `Ensemble Models`\n",
    "\n",
    "1. BaggingRegressor\n",
    "2. RandomForestRegressor\n",
    "3. ExtraTreesRegressor"
   ]
  },
  {
   "cell_type": "markdown",
   "metadata": {},
   "source": [
    "## `Bagging Regression` with an ensemble of Linear Regressors"
   ]
  },
  {
   "cell_type": "code",
   "execution_count": 18,
   "metadata": {},
   "outputs": [
    {
     "name": "stdout",
     "output_type": "stream",
     "text": [
      "oob score:  0.33947110663978963\n"
     ]
    }
   ],
   "source": [
    "BagReg = BaggingRegressor(base_estimator=LinearRegression(),\n",
    "                          n_estimators=500,\n",
    "                          bootstrap_features = True,\n",
    "                          max_features = 1.0, # Use all features\n",
    "                          oob_score = True,\n",
    "                          random_state = 0)\n",
    "\n",
    "BagReg.fit(X_train_stan, y_train)\n",
    "\n",
    "print(\"oob score: \", BagReg.oob_score_) # The oob score for BagReg is the R2 Score"
   ]
  },
  {
   "cell_type": "code",
   "execution_count": 20,
   "metadata": {},
   "outputs": [
    {
     "data": {
      "text/plain": [
       "{'R2': 0.3295479638920208,\n",
       " 'MAE': 0.49737370246677287,\n",
       " 'MSE': 0.4097760941439712,\n",
       " 'RMSE': 0.6401375587668413}"
      ]
     },
     "execution_count": 20,
     "metadata": {},
     "output_type": "execute_result"
    }
   ],
   "source": [
    "y_preds = BagReg.predict(X_test_stan)\n",
    "results = test_eval(y_test, y_preds)\n",
    "results"
   ]
  },
  {
   "cell_type": "markdown",
   "metadata": {},
   "source": [
    "### Bagging Regression with an ensemble of SVRs"
   ]
  },
  {
   "cell_type": "code",
   "execution_count": 21,
   "metadata": {},
   "outputs": [
    {
     "name": "stdout",
     "output_type": "stream",
     "text": [
      "oob score:  0.4077337828230264\n"
     ]
    }
   ],
   "source": [
    "BagReg = BaggingRegressor(base_estimator=SVR(),\n",
    "                          n_estimators=500,\n",
    "                          bootstrap_features = True,\n",
    "                          max_features = 1.0, # Use all features\n",
    "                          oob_score = True,\n",
    "                          random_state = 0)\n",
    "\n",
    "BagReg.fit(X_train_stan, y_train)\n",
    "\n",
    "print(\"oob score: \", BagReg.oob_score_) # The oob score for BagReg is the R2 Score"
   ]
  },
  {
   "cell_type": "code",
   "execution_count": 22,
   "metadata": {},
   "outputs": [
    {
     "data": {
      "text/plain": [
       "{'R2': 0.3857153080639574,\n",
       " 'MAE': 0.4619557970352365,\n",
       " 'MSE': 0.37544696443198466,\n",
       " 'RMSE': 0.6127372719461291}"
      ]
     },
     "execution_count": 22,
     "metadata": {},
     "output_type": "execute_result"
    }
   ],
   "source": [
    "y_preds = BagReg.predict(X_test_stan)\n",
    "results = test_eval(y_test, y_preds)\n",
    "results"
   ]
  },
  {
   "cell_type": "markdown",
   "metadata": {},
   "source": [
    "### Bagging Regression with an ensemble of Ridge Regressors"
   ]
  },
  {
   "cell_type": "code",
   "execution_count": 24,
   "metadata": {},
   "outputs": [
    {
     "name": "stdout",
     "output_type": "stream",
     "text": [
      "oob score:  0.33942059660599144\n"
     ]
    }
   ],
   "source": [
    "BagReg = BaggingRegressor(base_estimator=Ridge(),\n",
    "                          n_estimators=500,\n",
    "                          bootstrap_features = True,\n",
    "                          max_features = 1.0, # Use all features\n",
    "                          oob_score = True,\n",
    "                          random_state = 0)\n",
    "\n",
    "BagReg.fit(X_train_stan, y_train)\n",
    "\n",
    "print(\"oob score: \", BagReg.oob_score_) # The oob score for BagReg is the R2 Score"
   ]
  },
  {
   "cell_type": "code",
   "execution_count": 25,
   "metadata": {},
   "outputs": [
    {
     "data": {
      "text/plain": [
       "{'R2': 0.32948314879797747,\n",
       " 'MAE': 0.49740938450077576,\n",
       " 'MSE': 0.4098157087243562,\n",
       " 'RMSE': 0.6401685002593897}"
      ]
     },
     "execution_count": 25,
     "metadata": {},
     "output_type": "execute_result"
    }
   ],
   "source": [
    "y_preds = BagReg.predict(X_test_stan)\n",
    "results = test_eval(y_test, y_preds)\n",
    "results"
   ]
  },
  {
   "cell_type": "markdown",
   "metadata": {},
   "source": [
    "# Random Forest Regression "
   ]
  },
  {
   "cell_type": "code",
   "execution_count": 28,
   "metadata": {},
   "outputs": [
    {
     "name": "stdout",
     "output_type": "stream",
     "text": [
      "Fitting 5 folds for each of 162 candidates, totalling 810 fits\n"
     ]
    },
    {
     "name": "stderr",
     "output_type": "stream",
     "text": [
      "[Parallel(n_jobs=-1)]: Using backend LokyBackend with 6 concurrent workers.\n",
      "[Parallel(n_jobs=-1)]: Done  29 tasks      | elapsed:    3.5s\n",
      "[Parallel(n_jobs=-1)]: Done 150 tasks      | elapsed:   15.2s\n",
      "[Parallel(n_jobs=-1)]: Done 353 tasks      | elapsed:   35.9s\n",
      "[Parallel(n_jobs=-1)]: Done 636 tasks      | elapsed:  1.1min\n",
      "[Parallel(n_jobs=-1)]: Done 810 out of 810 | elapsed:  1.4min finished\n"
     ]
    },
    {
     "data": {
      "text/plain": [
       "GridSearchCV(cv=5, estimator=RandomForestRegressor(), n_jobs=-1,\n",
       "             param_grid={'max_depth': [16, 20, 24],\n",
       "                         'max_features': [0.5, 0.6, 0.7, 0.8, 0.9, 1.0],\n",
       "                         'min_samples_leaf': [1, 10, 100],\n",
       "                         'n_estimators': [100, 250, 500], 'n_jobs': [-1],\n",
       "                         'random_state': [0]},\n",
       "             scoring='r2', verbose=2)"
      ]
     },
     "execution_count": 28,
     "metadata": {},
     "output_type": "execute_result"
    }
   ],
   "source": [
    "rf_grid = {'n_estimators': [100,250,500],\n",
    "           'max_features': [0.5,0.6,0.7,0.8,0.9,1.0],\n",
    "           'max_depth': [16,20,24],\n",
    "           'min_samples_leaf':[1,10,100],\n",
    "           'random_state':[0],\n",
    "           'n_jobs': [-1]}\n",
    "\n",
    "# Use GridSearchCV to find best hyperparameters\n",
    "\n",
    "rf_search = GridSearchCV(RandomForestRegressor(),\n",
    "                         param_grid=rf_grid,\n",
    "                         cv=5,\n",
    "                         scoring='r2',\n",
    "                         verbose=2,\n",
    "                         n_jobs=-1)\n",
    "\n",
    "rf_search.fit(X_train_stan, y_train)"
   ]
  },
  {
   "cell_type": "code",
   "execution_count": 30,
   "metadata": {},
   "outputs": [
    {
     "name": "stdout",
     "output_type": "stream",
     "text": [
      "The best model hyperparameters:  {'max_depth': 20, 'max_features': 0.5, 'min_samples_leaf': 1, 'n_estimators': 250, 'n_jobs': -1, 'random_state': 0}\n",
      "This model produces a mean cross-validated score (r2) of 0.47733473695408846\n"
     ]
    }
   ],
   "source": [
    "print('The best model hyperparameters: ', rf_search.best_params_)\n",
    "print('This model produces a mean cross-validated score (r2) of', rf_search.best_score_)"
   ]
  },
  {
   "cell_type": "markdown",
   "metadata": {},
   "source": [
    "### Evaluate on test set"
   ]
  },
  {
   "cell_type": "code",
   "execution_count": 31,
   "metadata": {},
   "outputs": [
    {
     "data": {
      "text/plain": [
       "{'R2': 0.4431321538633003,\n",
       " 'MAE': 0.42472667050984453,\n",
       " 'MSE': 0.34035414713471257,\n",
       " 'RMSE': 0.5833987891097414}"
      ]
     },
     "execution_count": 31,
     "metadata": {},
     "output_type": "execute_result"
    }
   ],
   "source": [
    "y_preds = rf_search.predict(X_test_stan)\n",
    "results = test_eval(y_test, y_preds)\n",
    "results"
   ]
  },
  {
   "cell_type": "markdown",
   "metadata": {},
   "source": [
    "# ExtraTrees Regression"
   ]
  },
  {
   "cell_type": "code",
   "execution_count": 32,
   "metadata": {},
   "outputs": [
    {
     "name": "stdout",
     "output_type": "stream",
     "text": [
      "Fitting 5 folds for each of 216 candidates, totalling 1080 fits\n"
     ]
    },
    {
     "name": "stderr",
     "output_type": "stream",
     "text": [
      "[Parallel(n_jobs=-1)]: Using backend LokyBackend with 6 concurrent workers.\n",
      "[Parallel(n_jobs=-1)]: Done  29 tasks      | elapsed:    2.5s\n",
      "[Parallel(n_jobs=-1)]: Done 150 tasks      | elapsed:    9.6s\n",
      "[Parallel(n_jobs=-1)]: Done 353 tasks      | elapsed:   21.9s\n",
      "[Parallel(n_jobs=-1)]: Done 636 tasks      | elapsed:   39.2s\n",
      "[Parallel(n_jobs=-1)]: Done 1001 tasks      | elapsed:  1.0min\n",
      "[Parallel(n_jobs=-1)]: Done 1080 out of 1080 | elapsed:  1.1min finished\n"
     ]
    },
    {
     "data": {
      "text/plain": [
       "GridSearchCV(cv=5, estimator=ExtraTreesRegressor(), n_jobs=-1,\n",
       "             param_grid={'max_depth': [16, 20, 24, 28],\n",
       "                         'max_features': [0.5, 0.6, 0.7, 0.8, 0.9, 1.0],\n",
       "                         'min_samples_leaf': [1, 10, 100],\n",
       "                         'n_estimators': [100, 250, 500], 'n_jobs': [-1],\n",
       "                         'random_state': [0]},\n",
       "             scoring='r2', verbose=2)"
      ]
     },
     "execution_count": 32,
     "metadata": {},
     "output_type": "execute_result"
    }
   ],
   "source": [
    "extra_grid = {\"n_estimators\": [100,250,500],\n",
    "              'max_features': [0.5,0.6,0.7,0.8,0.9,1.0],\n",
    "              'max_depth': [16,20,24,28],\n",
    "              'min_samples_leaf':[1,10,100],\n",
    "              'random_state':[0],\n",
    "              'n_jobs':[-1]}\n",
    "\n",
    "# Use GridSearchCV to find best hyperparameters\n",
    "extra_search = GridSearchCV(ExtraTreesRegressor(),\n",
    "                            param_grid=extra_grid,\n",
    "                            cv=5,\n",
    "                            scoring='r2',\n",
    "                            verbose=2,\n",
    "                            n_jobs=-1)\n",
    "\n",
    "extra_search.fit(X_train_stan, y_train)"
   ]
  },
  {
   "cell_type": "code",
   "execution_count": 34,
   "metadata": {},
   "outputs": [
    {
     "name": "stdout",
     "output_type": "stream",
     "text": [
      "The best model hyperparameters:  {'max_depth': 24, 'max_features': 0.6, 'min_samples_leaf': 1, 'n_estimators': 500, 'n_jobs': -1, 'random_state': 0}\n",
      "This model produces a mean cross-validated score (r2) of 0.4854877792467425\n"
     ]
    }
   ],
   "source": [
    "print('The best model hyperparameters: ', extra_search.best_params_)\n",
    "print('This model produces a mean cross-validated score (r2) of', extra_search.best_score_)"
   ]
  },
  {
   "cell_type": "markdown",
   "metadata": {},
   "source": [
    "## Evaluate on test set"
   ]
  },
  {
   "cell_type": "code",
   "execution_count": 35,
   "metadata": {},
   "outputs": [
    {
     "data": {
      "text/plain": [
       "{'R2': 0.45933807343089217,\n",
       " 'MAE': 0.39043670397701563,\n",
       " 'MSE': 0.33044919038199766,\n",
       " 'RMSE': 0.5748471017427136}"
      ]
     },
     "execution_count": 35,
     "metadata": {},
     "output_type": "execute_result"
    }
   ],
   "source": [
    "y_preds = extra_search.predict(X_test_stan)\n",
    "results = test_eval(y_test, y_preds)\n",
    "results"
   ]
  },
  {
   "cell_type": "markdown",
   "metadata": {},
   "source": [
    "# Lets try a Bagging Regressor with our best `RandomForestRegressor` model"
   ]
  },
  {
   "cell_type": "code",
   "execution_count": 36,
   "metadata": {},
   "outputs": [
    {
     "name": "stdout",
     "output_type": "stream",
     "text": [
      "oob score:  0.47486536680231517\n"
     ]
    }
   ],
   "source": [
    "# Instantiate a Random Forest model with tuned hyperparameters\n",
    "\n",
    "best_rf = RandomForestRegressor(n_estimators=250, max_depth=20, max_features=0.5, min_samples_leaf=1,\n",
    "                                n_jobs=-1, random_state=0)\n",
    "\n",
    "BagReg = BaggingRegressor(base_estimator=best_rf,\n",
    "                          n_estimators=500,\n",
    "                          bootstrap_features = True,\n",
    "                          max_features = 1.0, # Use all features\n",
    "                          oob_score = True,\n",
    "                          random_state = 0)\n",
    "\n",
    "BagReg.fit(X_train_stan, y_train)\n",
    "\n",
    "print(\"oob score: \", BagReg.oob_score_) # The oob score for BagReg is the R2 Score"
   ]
  },
  {
   "cell_type": "code",
   "execution_count": 37,
   "metadata": {},
   "outputs": [
    {
     "data": {
      "text/plain": [
       "{'R2': 0.42338766854601695,\n",
       " 'MAE': 0.4524256235225158,\n",
       " 'MSE': 0.3524218531576029,\n",
       " 'RMSE': 0.5936512891905508}"
      ]
     },
     "execution_count": 37,
     "metadata": {},
     "output_type": "execute_result"
    }
   ],
   "source": [
    "y_preds = BagReg.predict(X_test_stan)\n",
    "results = test_eval(y_test, y_preds)\n",
    "results"
   ]
  },
  {
   "cell_type": "markdown",
   "metadata": {},
   "source": [
    "### This is the best result produced by the Bagging Regressor in this experiment"
   ]
  },
  {
   "cell_type": "markdown",
   "metadata": {},
   "source": [
    "# Compiling the results"
   ]
  },
  {
   "cell_type": "code",
   "execution_count": 38,
   "metadata": {},
   "outputs": [],
   "source": [
    "# Random Forest\n",
    "y_preds = rf_search.predict(X_test_stan)\n",
    "rf_results = test_eval(y_test, y_preds)\n",
    "\n",
    "# Extra Trees\n",
    "y_preds = extra_search.predict(X_test_stan)\n",
    "extra_results = test_eval(y_test, y_preds)\n",
    "\n",
    "# Best Bagging Regressor\n",
    "y_preds = BagReg.predict(X_test_stan)\n",
    "bag_results = test_eval(y_test, y_preds)"
   ]
  },
  {
   "cell_type": "code",
   "execution_count": 49,
   "metadata": {},
   "outputs": [
    {
     "data": {
      "text/html": [
       "<div>\n",
       "<style scoped>\n",
       "    .dataframe tbody tr th:only-of-type {\n",
       "        vertical-align: middle;\n",
       "    }\n",
       "\n",
       "    .dataframe tbody tr th {\n",
       "        vertical-align: top;\n",
       "    }\n",
       "\n",
       "    .dataframe thead th {\n",
       "        text-align: right;\n",
       "    }\n",
       "</style>\n",
       "<table border=\"1\" class=\"dataframe\">\n",
       "  <thead>\n",
       "    <tr style=\"text-align: right;\">\n",
       "      <th></th>\n",
       "      <th>R2</th>\n",
       "      <th>MAE</th>\n",
       "      <th>MSE</th>\n",
       "      <th>RMSE</th>\n",
       "    </tr>\n",
       "  </thead>\n",
       "  <tbody>\n",
       "    <tr>\n",
       "      <th>RandomForest</th>\n",
       "      <td>0.443132</td>\n",
       "      <td>0.424727</td>\n",
       "      <td>0.340354</td>\n",
       "      <td>0.583399</td>\n",
       "    </tr>\n",
       "    <tr>\n",
       "      <th>ExtraTrees</th>\n",
       "      <td>0.459338</td>\n",
       "      <td>0.390437</td>\n",
       "      <td>0.330449</td>\n",
       "      <td>0.574847</td>\n",
       "    </tr>\n",
       "    <tr>\n",
       "      <th>BagReg</th>\n",
       "      <td>0.423388</td>\n",
       "      <td>0.452426</td>\n",
       "      <td>0.352422</td>\n",
       "      <td>0.593651</td>\n",
       "    </tr>\n",
       "  </tbody>\n",
       "</table>\n",
       "</div>"
      ],
      "text/plain": [
       "                    R2       MAE       MSE      RMSE\n",
       "RandomForest  0.443132  0.424727  0.340354  0.583399\n",
       "ExtraTrees    0.459338  0.390437  0.330449  0.574847\n",
       "BagReg        0.423388  0.452426  0.352422  0.593651"
      ]
     },
     "execution_count": 49,
     "metadata": {},
     "output_type": "execute_result"
    }
   ],
   "source": [
    "# Create DataFrame of Results\n",
    "models = pd.DataFrame([rf_results, extra_results, bag_results], index=[\"RandomForest\", \"ExtraTrees\", \"BagReg\"])\n",
    "models"
   ]
  },
  {
   "cell_type": "code",
   "execution_count": 60,
   "metadata": {},
   "outputs": [
    {
     "data": {
      "image/png": "[encoded data removed]",
      "text/plain": [
       "<Figure size 720x432 with 1 Axes>"
      ]
     },
     "metadata": {},
     "output_type": "display_data"
    }
   ],
   "source": [
    "plt.style.use(\"seaborn\")\n",
    "\n",
    "models.plot(kind='bar', color=[\"salmon\", 'lightblue', 'indianred', 'plum'], xlabel=\"Models\", figsize=(10,6))\n",
    "plt.ylabel(\"Score\")\n",
    "plt.title(\"Model Performance\")\n",
    "plt.xticks(rotation=0)\n",
    "plt.fontsize = 15;"
   ]
  },
  {
   "cell_type": "markdown",
   "metadata": {},
   "source": [
    "# Visualize the results"
   ]
  },
  {
   "cell_type": "markdown",
   "metadata": {},
   "source": [
    "### **Random Forest Regression**"
   ]
  },
  {
   "cell_type": "code",
   "execution_count": 61,
   "metadata": {},
   "outputs": [
    {
     "data": {
      "text/html": [
       "<div>\n",
       "<style scoped>\n",
       "    .dataframe tbody tr th:only-of-type {\n",
       "        vertical-align: middle;\n",
       "    }\n",
       "\n",
       "    .dataframe tbody tr th {\n",
       "        vertical-align: top;\n",
       "    }\n",
       "\n",
       "    .dataframe thead th {\n",
       "        text-align: right;\n",
       "    }\n",
       "</style>\n",
       "<table border=\"1\" class=\"dataframe\">\n",
       "  <thead>\n",
       "    <tr style=\"text-align: right;\">\n",
       "      <th></th>\n",
       "      <th>Actual</th>\n",
       "      <th>Predictions</th>\n",
       "    </tr>\n",
       "  </thead>\n",
       "  <tbody>\n",
       "    <tr>\n",
       "      <th>0</th>\n",
       "      <td>6.0</td>\n",
       "      <td>5.49</td>\n",
       "    </tr>\n",
       "    <tr>\n",
       "      <th>1</th>\n",
       "      <td>5.0</td>\n",
       "      <td>4.78</td>\n",
       "    </tr>\n",
       "    <tr>\n",
       "      <th>2</th>\n",
       "      <td>7.0</td>\n",
       "      <td>6.94</td>\n",
       "    </tr>\n",
       "    <tr>\n",
       "      <th>3</th>\n",
       "      <td>6.0</td>\n",
       "      <td>5.03</td>\n",
       "    </tr>\n",
       "    <tr>\n",
       "      <th>4</th>\n",
       "      <td>5.0</td>\n",
       "      <td>5.23</td>\n",
       "    </tr>\n",
       "  </tbody>\n",
       "</table>\n",
       "</div>"
      ],
      "text/plain": [
       "   Actual  Predictions\n",
       "0     6.0         5.49\n",
       "1     5.0         4.78\n",
       "2     7.0         6.94\n",
       "3     6.0         5.03\n",
       "4     5.0         5.23"
      ]
     },
     "execution_count": 61,
     "metadata": {},
     "output_type": "execute_result"
    }
   ],
   "source": [
    "y_preds = rf_search.predict(X_test_stan)\n",
    "\n",
    "comparison = {'Actual':y_test,'Predictions': y_preds}\n",
    "\n",
    "rf_comparison = pd.DataFrame(comparison)\n",
    "rf_comparison['Predictions'] = round(rf_comparison['Predictions'], 2)\n",
    "\n",
    "rf_comparison.head()"
   ]
  },
  {
   "cell_type": "code",
   "execution_count": 65,
   "metadata": {},
   "outputs": [
    {
     "data": {
      "text/plain": [
       "Text(0.5, 1.0, 'Random Forest Regression')"
      ]
     },
     "execution_count": 65,
     "metadata": {},
     "output_type": "execute_result"
    },
    {
     "data": {
      "image/png": "[encoded data removed]",
      "text/plain": [
       "<Figure size 576x396 with 1 Axes>"
      ]
     },
     "metadata": {},
     "output_type": "display_data"
    }
   ],
   "source": [
    "sns.set(font_scale=1.3)\n",
    "sns.regplot(x=\"Actual\", y=\"Predictions\", data=rf_comparison, color=\"purple\")\n",
    "plt.title(\"Random Forest Regression\")"
   ]
  },
  {
   "cell_type": "markdown",
   "metadata": {},
   "source": [
    "### Extra Trees Regression"
   ]
  },
  {
   "cell_type": "code",
   "execution_count": 66,
   "metadata": {},
   "outputs": [
    {
     "data": {
      "text/html": [
       "<div>\n",
       "<style scoped>\n",
       "    .dataframe tbody tr th:only-of-type {\n",
       "        vertical-align: middle;\n",
       "    }\n",
       "\n",
       "    .dataframe tbody tr th {\n",
       "        vertical-align: top;\n",
       "    }\n",
       "\n",
       "    .dataframe thead th {\n",
       "        text-align: right;\n",
       "    }\n",
       "</style>\n",
       "<table border=\"1\" class=\"dataframe\">\n",
       "  <thead>\n",
       "    <tr style=\"text-align: right;\">\n",
       "      <th></th>\n",
       "      <th>Actual</th>\n",
       "      <th>Predictions</th>\n",
       "    </tr>\n",
       "  </thead>\n",
       "  <tbody>\n",
       "    <tr>\n",
       "      <th>0</th>\n",
       "      <td>6.0</td>\n",
       "      <td>5.49</td>\n",
       "    </tr>\n",
       "    <tr>\n",
       "      <th>1</th>\n",
       "      <td>5.0</td>\n",
       "      <td>4.77</td>\n",
       "    </tr>\n",
       "    <tr>\n",
       "      <th>2</th>\n",
       "      <td>7.0</td>\n",
       "      <td>7.00</td>\n",
       "    </tr>\n",
       "    <tr>\n",
       "      <th>3</th>\n",
       "      <td>6.0</td>\n",
       "      <td>5.08</td>\n",
       "    </tr>\n",
       "    <tr>\n",
       "      <th>4</th>\n",
       "      <td>5.0</td>\n",
       "      <td>5.00</td>\n",
       "    </tr>\n",
       "  </tbody>\n",
       "</table>\n",
       "</div>"
      ],
      "text/plain": [
       "   Actual  Predictions\n",
       "0     6.0         5.49\n",
       "1     5.0         4.77\n",
       "2     7.0         7.00\n",
       "3     6.0         5.08\n",
       "4     5.0         5.00"
      ]
     },
     "execution_count": 66,
     "metadata": {},
     "output_type": "execute_result"
    }
   ],
   "source": [
    "y_preds = extra_search.predict(X_test_stan)\n",
    "\n",
    "comparison = {'Actual':y_test,'Predictions': y_preds}\n",
    "\n",
    "extra_comparison = pd.DataFrame(comparison)\n",
    "extra_comparison['Predictions'] = round(extra_comparison['Predictions'], 2)\n",
    "\n",
    "extra_comparison.head()"
   ]
  },
  {
   "cell_type": "code",
   "execution_count": 68,
   "metadata": {},
   "outputs": [
    {
     "data": {
      "text/plain": [
       "Text(0.5, 1.0, 'Random Forest Regression')"
      ]
     },
     "execution_count": 68,
     "metadata": {},
     "output_type": "execute_result"
    },
    {
     "data": {
      "image/png": "[encoded data removed]",
      "text/plain": [
       "<Figure size 576x396 with 1 Axes>"
      ]
     },
     "metadata": {},
     "output_type": "display_data"
    }
   ],
   "source": [
    "sns.set(font_scale=1.3)\n",
    "sns.regplot(x=\"Actual\", y=\"Predictions\", data=rf_comparison, color=\"darkblue\")\n",
    "plt.title(\"Extra Trees Regression\")"
   ]
  },
  {
   "cell_type": "code",
   "execution_count": null,
   "metadata": {},
   "outputs": [],
   "source": []
  }
 ],
 "metadata": {
  "kernelspec": {
   "display_name": "Python 3",
   "language": "python",
   "name": "python3"
  },
  "language_info": {
   "codemirror_mode": {
    "name": "ipython",
    "version": 3
   },
   "file_extension": ".py",
   "mimetype": "text/x-python",
   "name": "python",
   "nbconvert_exporter": "python",
   "pygments_lexer": "ipython3",
   "version": "3.8.5"
  }
 },
 "nbformat": 4,
 "nbformat_minor": 4
}
